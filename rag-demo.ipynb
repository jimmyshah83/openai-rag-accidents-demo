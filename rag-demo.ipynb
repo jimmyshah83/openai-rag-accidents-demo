{
 "cells": [
  {
   "cell_type": "code",
   "execution_count": null,
   "metadata": {},
   "outputs": [],
   "source": [
    "%pip install openai num2words matplotlib plotly scipy scikit-learn pandas tiktoken redis langchain"
   ]
  },
  {
   "cell_type": "code",
   "execution_count": 2,
   "metadata": {},
   "outputs": [],
   "source": [
    "# import openai\n",
    "# import re\n",
    "# import requests\n",
    "# import sys\n",
    "# from num2words import num2words\n",
    "import os\n",
    "import pandas as pd\n",
    "# import numpy as np\n",
    "# from openai.embeddings_utils import get_embedding\n",
    "# import tiktoken\n",
    "# from typing import List\n",
    "# from langchain.embeddings import OpenAIEmbeddings\n",
    "# from langchain.vectorstores.redis import Redis as RedisVectorStore"
   ]
  },
  {
   "cell_type": "code",
   "execution_count": 30,
   "metadata": {},
   "outputs": [
    {
     "data": {
      "text/html": [
       "<div>\n",
       "<style scoped>\n",
       "    .dataframe tbody tr th:only-of-type {\n",
       "        vertical-align: middle;\n",
       "    }\n",
       "\n",
       "    .dataframe tbody tr th {\n",
       "        vertical-align: top;\n",
       "    }\n",
       "\n",
       "    .dataframe thead th {\n",
       "        text-align: right;\n",
       "    }\n",
       "</style>\n",
       "<table border=\"1\" class=\"dataframe\">\n",
       "  <thead>\n",
       "    <tr style=\"text-align: right;\">\n",
       "      <th></th>\n",
       "      <th>Start_Time</th>\n",
       "      <th>Description</th>\n",
       "      <th>City</th>\n",
       "    </tr>\n",
       "  </thead>\n",
       "  <tbody>\n",
       "    <tr>\n",
       "      <th>0</th>\n",
       "      <td>2016-02-08 05:46:00</td>\n",
       "      <td>Right lane blocked due to accident on I-70 Eas...</td>\n",
       "      <td>Dayton</td>\n",
       "    </tr>\n",
       "    <tr>\n",
       "      <th>1</th>\n",
       "      <td>2016-02-08 06:07:59</td>\n",
       "      <td>Accident on Brice Rd at Tussing Rd. Expect del...</td>\n",
       "      <td>Reynoldsburg</td>\n",
       "    </tr>\n",
       "    <tr>\n",
       "      <th>2</th>\n",
       "      <td>2016-02-08 06:49:27</td>\n",
       "      <td>Accident on OH-32 State Route 32 Westbound at ...</td>\n",
       "      <td>Williamsburg</td>\n",
       "    </tr>\n",
       "    <tr>\n",
       "      <th>3</th>\n",
       "      <td>2016-02-08 07:23:34</td>\n",
       "      <td>Accident on I-75 Southbound at Exits 52 52B US...</td>\n",
       "      <td>Dayton</td>\n",
       "    </tr>\n",
       "    <tr>\n",
       "      <th>4</th>\n",
       "      <td>2016-02-08 07:39:07</td>\n",
       "      <td>Accident on McEwen Rd at OH-725 Miamisburg Cen...</td>\n",
       "      <td>Dayton</td>\n",
       "    </tr>\n",
       "    <tr>\n",
       "      <th>...</th>\n",
       "      <td>...</td>\n",
       "      <td>...</td>\n",
       "      <td>...</td>\n",
       "    </tr>\n",
       "    <tr>\n",
       "      <th>7728389</th>\n",
       "      <td>2019-08-23 18:03:25</td>\n",
       "      <td>At Market St - Accident.</td>\n",
       "      <td>Riverside</td>\n",
       "    </tr>\n",
       "    <tr>\n",
       "      <th>7728390</th>\n",
       "      <td>2019-08-23 19:11:30</td>\n",
       "      <td>At Camino Del Rio/Mission Center Rd - Accident.</td>\n",
       "      <td>San Diego</td>\n",
       "    </tr>\n",
       "    <tr>\n",
       "      <th>7728391</th>\n",
       "      <td>2019-08-23 19:00:21</td>\n",
       "      <td>At Glassell St/Grand Ave - Accident. in the ri...</td>\n",
       "      <td>Orange</td>\n",
       "    </tr>\n",
       "    <tr>\n",
       "      <th>7728392</th>\n",
       "      <td>2019-08-23 19:00:21</td>\n",
       "      <td>At CA-90/Marina Fwy/Jefferson Blvd - Accident.</td>\n",
       "      <td>Culver City</td>\n",
       "    </tr>\n",
       "    <tr>\n",
       "      <th>7728393</th>\n",
       "      <td>2019-08-23 18:52:06</td>\n",
       "      <td>At Highland Ave/Arden Ave - Accident.</td>\n",
       "      <td>Highland</td>\n",
       "    </tr>\n",
       "  </tbody>\n",
       "</table>\n",
       "<p>7728394 rows × 3 columns</p>\n",
       "</div>"
      ],
      "text/plain": [
       "                  Start_Time  \\\n",
       "0        2016-02-08 05:46:00   \n",
       "1        2016-02-08 06:07:59   \n",
       "2        2016-02-08 06:49:27   \n",
       "3        2016-02-08 07:23:34   \n",
       "4        2016-02-08 07:39:07   \n",
       "...                      ...   \n",
       "7728389  2019-08-23 18:03:25   \n",
       "7728390  2019-08-23 19:11:30   \n",
       "7728391  2019-08-23 19:00:21   \n",
       "7728392  2019-08-23 19:00:21   \n",
       "7728393  2019-08-23 18:52:06   \n",
       "\n",
       "                                               Description          City  \n",
       "0        Right lane blocked due to accident on I-70 Eas...        Dayton  \n",
       "1        Accident on Brice Rd at Tussing Rd. Expect del...  Reynoldsburg  \n",
       "2        Accident on OH-32 State Route 32 Westbound at ...  Williamsburg  \n",
       "3        Accident on I-75 Southbound at Exits 52 52B US...        Dayton  \n",
       "4        Accident on McEwen Rd at OH-725 Miamisburg Cen...        Dayton  \n",
       "...                                                    ...           ...  \n",
       "7728389                           At Market St - Accident.     Riverside  \n",
       "7728390    At Camino Del Rio/Mission Center Rd - Accident.     San Diego  \n",
       "7728391  At Glassell St/Grand Ave - Accident. in the ri...        Orange  \n",
       "7728392     At CA-90/Marina Fwy/Jefferson Blvd - Accident.   Culver City  \n",
       "7728393              At Highland Ave/Arden Ave - Accident.      Highland  \n",
       "\n",
       "[7728394 rows x 3 columns]"
      ]
     },
     "execution_count": 30,
     "metadata": {},
     "output_type": "execute_result"
    }
   ],
   "source": [
    "# Read and filter data\n",
    "\n",
    "df=pd.read_csv(os.path.join(os.getcwd(),'US_Accidents_March23.csv'), usecols=['Start_Time', 'Description', 'City'])\n",
    "df"
   ]
  },
  {
   "cell_type": "code",
   "execution_count": 31,
   "metadata": {},
   "outputs": [
    {
     "data": {
      "text/plain": [
       "'Right lane blocked due to accident on I-70 Eastbound at Exit 41 OH-235 State Route 4'"
      ]
     },
     "execution_count": 31,
     "metadata": {},
     "output_type": "execute_result"
    }
   ],
   "source": [
    "# Clean data\n",
    "\n",
    "df['Start_Time'] = pd.to_datetime(df['Start_Time'], format='mixed')\n",
    "df['Start_Time'] = df['Start_Time'].dt.strftime('%Y-%m-%d')\n",
    "df['Description'] = df['Description'].str.rstrip('.')\n",
    "df"
   ]
  },
  {
   "cell_type": "code",
   "execution_count": 32,
   "metadata": {},
   "outputs": [
    {
     "data": {
      "text/plain": [
       "'Right lane blocked due to accident on I-70 Eastbound at Exit 41 OH-235 State Route 4 on 2016-02-08 in the city of Dayton'"
      ]
     },
     "execution_count": 32,
     "metadata": {},
     "output_type": "execute_result"
    }
   ],
   "source": [
    "# Merge data\n",
    "\n",
    "df['merged'] = df.apply(lambda x: x.astype(str)['Description'] + ' on ' + x.astype(str)['Start_Time'] + ' in the city of ' + x.astype(str)['City'], axis=1)\n",
    "df['merged'].iloc[0]"
   ]
  },
  {
   "cell_type": "code",
   "execution_count": null,
   "metadata": {},
   "outputs": [],
   "source": [
    "#Check how many tokens it will require to encode all the accidents\n",
    "\n",
    "tokenizer = tiktoken.get_encoding(\"cl100k_base\")\n",
    "df['n_tokens'] = df[\"Plot\"].apply(lambda x: len(tokenizer.encode(x)))\n",
    "df = df[df.n_tokens<8192]\n",
    "print('Number of accidents: ' + str(len(df))) # print number of accidents remaining in dataset\n",
    "print('Number of tokens required:' + str(df['n_tokens'].sum())) # print number of tokens"
   ]
  },
  {
   "cell_type": "code",
   "execution_count": null,
   "metadata": {},
   "outputs": [],
   "source": [
    "# load everything into Langchain\n",
    "\n",
    "from langchain.document_loaders import DataFrameLoader\n",
    "loader = DataFrameLoader(df, page_content_column=\"Plot\" )\n",
    "movie_list = loader.load()"
   ]
  },
  {
   "cell_type": "markdown",
   "metadata": {},
   "source": [
    "Convert this notebook to Python app `jupyter nbconvert --to python rag-demo.ipynb`"
   ]
  }
 ],
 "metadata": {
  "kernelspec": {
   "display_name": "Python 3",
   "language": "python",
   "name": "python3"
  },
  "language_info": {
   "codemirror_mode": {
    "name": "ipython",
    "version": 3
   },
   "file_extension": ".py",
   "mimetype": "text/x-python",
   "name": "python",
   "nbconvert_exporter": "python",
   "pygments_lexer": "ipython3",
   "version": "3.11.5"
  }
 },
 "nbformat": 4,
 "nbformat_minor": 2
}
